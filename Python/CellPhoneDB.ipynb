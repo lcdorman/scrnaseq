{
 "cells": [
  {
   "cell_type": "code",
   "execution_count": 1,
   "metadata": {},
   "outputs": [
    {
     "name": "stdout",
     "output_type": "stream",
     "text": [
      "Collecting CellPhoneDB\n",
      "  Downloading CellPhoneDB-2.1.4.tar.gz (13.1 MB)\n",
      "\u001b[K     |████████████████████████████████| 13.1 MB 2.7 MB/s eta 0:00:01\n",
      "\u001b[?25hCollecting click<6.7.99,>=6.7\n",
      "  Downloading click-6.7-py2.py3-none-any.whl (71 kB)\n",
      "\u001b[K     |████████████████████████████████| 71 kB 10.2 MB/s eta 0:00:01\n",
      "\u001b[?25hCollecting pandas<0.23.99,>=0.23\n",
      "  Downloading pandas-0.23.4-cp37-cp37m-macosx_10_6_intel.macosx_10_9_intel.macosx_10_9_x86_64.macosx_10_10_intel.macosx_10_10_x86_64.whl (14.4 MB)\n",
      "\u001b[K     |████████████████████████████████| 14.4 MB 632 kB/s eta 0:00:01\n",
      "\u001b[?25hCollecting flask<1.0.99,>=1.0\n",
      "  Downloading Flask-1.0.4-py2.py3-none-any.whl (92 kB)\n",
      "\u001b[K     |████████████████████████████████| 92 kB 1.1 MB/s eta 0:00:011\n",
      "\u001b[?25hCollecting Flask-RESTful<0.3.99,>=0.3\n",
      "  Downloading Flask_RESTful-0.3.8-py2.py3-none-any.whl (25 kB)\n",
      "Collecting Flask-Testing<0.7.99,>=0.7\n",
      "  Downloading Flask-Testing-0.7.1.tar.gz (43 kB)\n",
      "\u001b[K     |████████████████████████████████| 43 kB 4.4 MB/s  eta 0:00:01\n",
      "\u001b[?25hCollecting SQLAlchemy<1.3.99,>=1.3\n",
      "  Downloading SQLAlchemy-1.3.18-cp37-cp37m-macosx_10_14_x86_64.whl (1.2 MB)\n",
      "\u001b[K     |████████████████████████████████| 1.2 MB 15.5 MB/s eta 0:00:01\n",
      "\u001b[?25hCollecting PyYAML<5.1.99,>=5.1\n",
      "  Downloading PyYAML-5.1.2.tar.gz (265 kB)\n",
      "\u001b[K     |████████████████████████████████| 265 kB 20.4 MB/s eta 0:00:01\n",
      "\u001b[?25hCollecting requests<2.19.99,>=2.19\n",
      "  Downloading requests-2.19.1-py2.py3-none-any.whl (91 kB)\n",
      "\u001b[K     |████████████████████████████████| 91 kB 13.8 MB/s eta 0:00:01\n",
      "\u001b[?25hCollecting pika<0.12.99,>=0.12\n",
      "  Downloading pika-0.12.0-py2.py3-none-any.whl (108 kB)\n",
      "\u001b[K     |████████████████████████████████| 108 kB 22.6 MB/s eta 0:00:01\n",
      "\u001b[?25hCollecting boto3<1.7.99,>=1.7\n",
      "  Downloading boto3-1.7.84-py2.py3-none-any.whl (128 kB)\n",
      "\u001b[K     |████████████████████████████████| 128 kB 2.8 MB/s eta 0:00:01\n",
      "\u001b[?25hCollecting geosketch==0.3\n",
      "  Downloading geosketch-0.3.tar.gz (7.2 kB)\n",
      "Requirement already satisfied: rpy2<3.0.99,>=3.0.4 in /usr/local/lib/python3.7/site-packages (from CellPhoneDB) (3.0.4)\n",
      "Requirement already satisfied: tqdm<4.32.99,>=4.32 in /usr/local/lib/python3.7/site-packages (from CellPhoneDB) (4.32.1)\n",
      "Requirement already satisfied: cython<0.29.99,>=0.29 in /usr/local/lib/python3.7/site-packages (from CellPhoneDB) (0.29.10)\n",
      "Requirement already satisfied: pytz>=2011k in /usr/local/lib/python3.7/site-packages (from pandas<0.23.99,>=0.23->CellPhoneDB) (2019.1)\n",
      "Requirement already satisfied: numpy>=1.9.0 in /usr/local/lib/python3.7/site-packages (from pandas<0.23.99,>=0.23->CellPhoneDB) (1.18.3)\n",
      "Requirement already satisfied: python-dateutil>=2.5.0 in /usr/local/lib/python3.7/site-packages (from pandas<0.23.99,>=0.23->CellPhoneDB) (2.8.0)\n",
      "Requirement already satisfied: Werkzeug>=0.14 in /usr/local/lib/python3.7/site-packages (from flask<1.0.99,>=1.0->CellPhoneDB) (1.0.1)\n",
      "Requirement already satisfied: itsdangerous>=0.24 in /usr/local/lib/python3.7/site-packages (from flask<1.0.99,>=1.0->CellPhoneDB) (1.1.0)\n",
      "Requirement already satisfied: Jinja2>=2.10 in /usr/local/lib/python3.7/site-packages (from flask<1.0.99,>=1.0->CellPhoneDB) (2.10.1)\n",
      "Collecting aniso8601>=0.82\n",
      "  Downloading aniso8601-8.0.0-py2.py3-none-any.whl (43 kB)\n",
      "\u001b[K     |████████████████████████████████| 43 kB 3.2 MB/s  eta 0:00:01\n",
      "\u001b[?25hRequirement already satisfied: six>=1.3.0 in /usr/local/lib/python3.7/site-packages (from Flask-RESTful<0.3.99,>=0.3->CellPhoneDB) (1.12.0)\n",
      "Requirement already satisfied: chardet<3.1.0,>=3.0.2 in /usr/local/lib/python3.7/site-packages (from requests<2.19.99,>=2.19->CellPhoneDB) (3.0.4)\n",
      "Requirement already satisfied: certifi>=2017.4.17 in /usr/local/lib/python3.7/site-packages (from requests<2.19.99,>=2.19->CellPhoneDB) (2020.4.5.1)\n",
      "Collecting idna<2.8,>=2.5\n",
      "  Downloading idna-2.7-py2.py3-none-any.whl (58 kB)\n",
      "\u001b[K     |████████████████████████████████| 58 kB 13.6 MB/s eta 0:00:01\n",
      "\u001b[?25hCollecting urllib3<1.24,>=1.21.1\n",
      "  Downloading urllib3-1.23-py2.py3-none-any.whl (133 kB)\n",
      "\u001b[K     |████████████████████████████████| 133 kB 15.5 MB/s eta 0:00:01\n",
      "\u001b[?25hCollecting jmespath<1.0.0,>=0.7.1\n",
      "  Downloading jmespath-0.10.0-py2.py3-none-any.whl (24 kB)\n",
      "Collecting botocore<1.11.0,>=1.10.84\n",
      "  Downloading botocore-1.10.84-py2.py3-none-any.whl (4.5 MB)\n",
      "\u001b[K     |████████████████████████████████| 4.5 MB 19.5 MB/s eta 0:00:01     |█▏                              | 163 kB 19.5 MB/s eta 0:00:01\n",
      "\u001b[?25hCollecting s3transfer<0.2.0,>=0.1.10\n",
      "  Downloading s3transfer-0.1.13-py2.py3-none-any.whl (59 kB)\n",
      "\u001b[K     |████████████████████████████████| 59 kB 9.5 MB/s  eta 0:00:01\n",
      "\u001b[?25hCollecting fbpca>=1.0\n",
      "  Downloading fbpca-1.0.tar.gz (11 kB)\n",
      "Requirement already satisfied: scikit-learn>=0.20rc1 in /usr/local/lib/python3.7/site-packages (from geosketch==0.3->CellPhoneDB) (0.21.2)\n",
      "Requirement already satisfied: simplegeneric in /usr/local/lib/python3.7/site-packages (from rpy2<3.0.99,>=3.0.4->CellPhoneDB) (0.8.1)\n",
      "Requirement already satisfied: pytest in /usr/local/lib/python3.7/site-packages (from rpy2<3.0.99,>=3.0.4->CellPhoneDB) (4.6.3)\n",
      "Requirement already satisfied: cffi>=1.0.0 in /usr/local/lib/python3.7/site-packages (from rpy2<3.0.99,>=3.0.4->CellPhoneDB) (1.12.3)\n",
      "Requirement already satisfied: MarkupSafe>=0.23 in /usr/local/lib/python3.7/site-packages (from Jinja2>=2.10->flask<1.0.99,>=1.0->CellPhoneDB) (1.1.1)\n",
      "Collecting docutils>=0.10\n",
      "  Downloading docutils-0.16-py2.py3-none-any.whl (548 kB)\n",
      "\u001b[K     |████████████████████████████████| 548 kB 14.4 MB/s eta 0:00:01\n",
      "\u001b[?25hRequirement already satisfied: scipy>=0.17.0 in /usr/local/lib/python3.7/site-packages (from scikit-learn>=0.20rc1->geosketch==0.3->CellPhoneDB) (1.4.1)\n",
      "Requirement already satisfied: joblib>=0.11 in /usr/local/lib/python3.7/site-packages (from scikit-learn>=0.20rc1->geosketch==0.3->CellPhoneDB) (0.13.2)\n",
      "Requirement already satisfied: more-itertools>=4.0.0; python_version > \"2.7\" in /usr/local/lib/python3.7/site-packages (from pytest->rpy2<3.0.99,>=3.0.4->CellPhoneDB) (7.0.0)\n",
      "Requirement already satisfied: atomicwrites>=1.0 in /usr/local/lib/python3.7/site-packages (from pytest->rpy2<3.0.99,>=3.0.4->CellPhoneDB) (1.3.0)\n",
      "Requirement already satisfied: attrs>=17.4.0 in /usr/local/lib/python3.7/site-packages (from pytest->rpy2<3.0.99,>=3.0.4->CellPhoneDB) (19.1.0)\n",
      "Requirement already satisfied: pluggy<1.0,>=0.12 in /usr/local/lib/python3.7/site-packages (from pytest->rpy2<3.0.99,>=3.0.4->CellPhoneDB) (0.12.0)\n",
      "Requirement already satisfied: packaging in /usr/local/lib/python3.7/site-packages (from pytest->rpy2<3.0.99,>=3.0.4->CellPhoneDB) (19.0)\n",
      "Requirement already satisfied: py>=1.5.0 in /usr/local/lib/python3.7/site-packages (from pytest->rpy2<3.0.99,>=3.0.4->CellPhoneDB) (1.8.0)\n",
      "Requirement already satisfied: importlib-metadata>=0.12 in /usr/local/lib/python3.7/site-packages (from pytest->rpy2<3.0.99,>=3.0.4->CellPhoneDB) (0.18)\n",
      "Requirement already satisfied: wcwidth in /usr/local/lib/python3.7/site-packages (from pytest->rpy2<3.0.99,>=3.0.4->CellPhoneDB) (0.1.7)\n",
      "Requirement already satisfied: pycparser in /usr/local/lib/python3.7/site-packages (from cffi>=1.0.0->rpy2<3.0.99,>=3.0.4->CellPhoneDB) (2.19)\n",
      "Requirement already satisfied: pyparsing>=2.0.2 in /usr/local/lib/python3.7/site-packages (from packaging->pytest->rpy2<3.0.99,>=3.0.4->CellPhoneDB) (2.4.0)\n",
      "Requirement already satisfied: zipp>=0.5 in /usr/local/lib/python3.7/site-packages (from importlib-metadata>=0.12->pytest->rpy2<3.0.99,>=3.0.4->CellPhoneDB) (0.5.1)\n",
      "Building wheels for collected packages: CellPhoneDB, Flask-Testing, PyYAML, geosketch, fbpca\n",
      "  Building wheel for CellPhoneDB (setup.py) ... \u001b[?25ldone\n",
      "\u001b[?25h  Created wheel for CellPhoneDB: filename=CellPhoneDB-2.1.4-py3-none-any.whl size=12667939 sha256=d11fbff60f37a8370913dc1ab3f2d984a957aac075f16b003a74db9454105619\n",
      "  Stored in directory: /Users/whippoorwill/Library/Caches/pip/wheels/6c/1e/91/defebc678d96a9c84bd42ddd7ba0e71622159c8c3bf19fb299\n",
      "  Building wheel for Flask-Testing (setup.py) ... \u001b[?25ldone\n",
      "\u001b[?25h  Created wheel for Flask-Testing: filename=Flask_Testing-0.7.1-py3-none-any.whl size=8167 sha256=24dd124939b8af51fa44d0eb94f7e2ae44c878daa4820517197344280107e0a2\n",
      "  Stored in directory: /Users/whippoorwill/Library/Caches/pip/wheels/fc/39/b4/9080ae08cb7d974d07c9c3cab042d374366916fee7d038ef9a\n"
     ]
    },
    {
     "name": "stdout",
     "output_type": "stream",
     "text": [
      "  Building wheel for PyYAML (setup.py) ... \u001b[?25ldone\n",
      "\u001b[?25h  Created wheel for PyYAML: filename=PyYAML-5.1.2-cp37-cp37m-macosx_10_14_x86_64.whl size=44110 sha256=0cf6a5953282378aaa99539cf9c41e0ff78ca810fc1dc560a2bbbbf0b3845cea\n",
      "  Stored in directory: /Users/whippoorwill/Library/Caches/pip/wheels/23/b9/73/57aaccb6957d94ed63f474b51a9f7f992c5eff4635052c0557\n",
      "  Building wheel for geosketch (setup.py) ... \u001b[?25ldone\n",
      "\u001b[?25h  Created wheel for geosketch: filename=geosketch-0.3-py3-none-any.whl size=7242 sha256=ef6a10f2ab70dadf290cb624e31ac965336f8341742ff948754d3b0742be8218\n",
      "  Stored in directory: /Users/whippoorwill/Library/Caches/pip/wheels/a5/79/9b/c0bcbff28a3b0dbbdd46970d0ddf8b8eb912947c94a84394f5\n",
      "  Building wheel for fbpca (setup.py) ... \u001b[?25ldone\n",
      "\u001b[?25h  Created wheel for fbpca: filename=fbpca-1.0-py3-none-any.whl size=11375 sha256=2792b443a299c1cbe2f836a21f7b917cfd64140c26f77ad40b3cd14342bba554\n",
      "  Stored in directory: /Users/whippoorwill/Library/Caches/pip/wheels/93/08/0c/1b9866c35c8d3f136d100dfe88036a32e0795437daca089f70\n",
      "Successfully built CellPhoneDB Flask-Testing PyYAML geosketch fbpca\n",
      "Installing collected packages: click, pandas, flask, aniso8601, Flask-RESTful, Flask-Testing, SQLAlchemy, PyYAML, idna, urllib3, requests, pika, jmespath, docutils, botocore, s3transfer, boto3, fbpca, geosketch, CellPhoneDB\n",
      "  Attempting uninstall: click\n",
      "    Found existing installation: Click 7.0\n",
      "    Uninstalling Click-7.0:\n",
      "      Successfully uninstalled Click-7.0\n",
      "  Attempting uninstall: pandas\n",
      "    Found existing installation: pandas 1.0.3\n",
      "    Uninstalling pandas-1.0.3:\n",
      "      Successfully uninstalled pandas-1.0.3\n",
      "  Attempting uninstall: flask\n",
      "    Found existing installation: Flask 1.1.2\n",
      "    Uninstalling Flask-1.1.2:\n",
      "      Successfully uninstalled Flask-1.1.2\n",
      "  Attempting uninstall: idna\n",
      "    Found existing installation: idna 2.9\n",
      "    Uninstalling idna-2.9:\n",
      "      Successfully uninstalled idna-2.9\n",
      "  Attempting uninstall: urllib3\n",
      "    Found existing installation: urllib3 1.25.9\n",
      "    Uninstalling urllib3-1.25.9:\n",
      "      Successfully uninstalled urllib3-1.25.9\n",
      "  Attempting uninstall: requests\n",
      "    Found existing installation: requests 2.23.0\n",
      "    Uninstalling requests-2.23.0:\n",
      "      Successfully uninstalled requests-2.23.0\n",
      "Successfully installed CellPhoneDB-2.1.4 Flask-RESTful-0.3.8 Flask-Testing-0.7.1 PyYAML-5.1.2 SQLAlchemy-1.3.18 aniso8601-8.0.0 boto3-1.7.84 botocore-1.10.84 click-6.7 docutils-0.16 fbpca-1.0 flask-1.0.4 geosketch-0.3 idna-2.7 jmespath-0.10.0 pandas-0.23.4 pika-0.12.0 requests-2.19.1 s3transfer-0.1.13 urllib3-1.23\n"
     ]
    }
   ],
   "source": [
    "!pip install CellPhoneDB"
   ]
  },
  {
   "cell_type": "code",
   "execution_count": 2,
   "metadata": {},
   "outputs": [
    {
     "name": "stdout",
     "output_type": "stream",
     "text": [
      "  % Total    % Received % Xferd  Average Speed   Time    Time     Time  Current\n",
      "                                 Dload  Upload   Total   Spent    Left  Speed\n",
      "100  930k  100  930k    0     0  1418k      0 --:--:-- --:--:-- --:--:-- 1418k\n",
      "  % Total    % Received % Xferd  Average Speed   Time    Time     Time  Current\n",
      "                                 Dload  Upload   Total   Spent    Left  Speed\n",
      "100   340  100   340    0     0   1011      0 --:--:-- --:--:-- --:--:--  1011\n"
     ]
    }
   ],
   "source": [
    "!curl https://raw.githubusercontent.com/Teichlab/cellphonedb/master/in/example_data/test_counts.txt --output test_counts.txt\n",
    "!curl https://raw.githubusercontent.com/Teichlab/cellphonedb/master/in/example_data/test_meta.txt --output test_meta.txt\n"
   ]
  },
  {
   "cell_type": "code",
   "execution_count": 22,
   "metadata": {},
   "outputs": [
    {
     "name": "stdout",
     "output_type": "stream",
     "text": [
      "[ ][APP][30/06/20-18:36:08][WARNING] Latest local available version is `v2.0.0`, using it\n",
      "[ ][APP][30/06/20-18:36:08][WARNING] User selected downloaded database `v2.0.0` is available, using it\n",
      "[ ][CORE][30/06/20-18:36:08][INFO] Initializing SqlAlchemy CellPhoneDB Core\n",
      "[ ][CORE][30/06/20-18:36:08][INFO] Using custom database at /Users/whippoorwill/.cpdb/releases/v2.0.0/cellphone.db\n",
      "[ ][APP][30/06/20-18:36:08][INFO] Launching Method cpdb_statistical_analysis_local_method_launcher\n",
      "[ ][APP][30/06/20-18:36:08][INFO] Launching Method _set_paths\n",
      "[ ][APP][30/06/20-18:36:08][WARNING] Output directory (cellphonedb) exist and is not empty. Result can overwrite old results\n",
      "[ ][APP][30/06/20-18:36:08][INFO] Launching Method _load_meta_counts\n",
      "[ ][CORE][30/06/20-18:36:24][INFO] Launching Method cpdb_statistical_analysis_launcher\n",
      "[ ][CORE][30/06/20-18:36:24][INFO] Launching Method _counts_validations\n",
      "[ ][CORE][30/06/20-18:36:26][INFO] [Cluster Statistical Analysis Simple] Threshold:0.1 Iterations:10 Debug-seed:-1 Threads:8 Precision:3\n",
      "[ ][CORE][30/06/20-18:36:26][INFO] Running Simple Prefilters\n",
      "[ ][CORE][30/06/20-18:36:27][INFO] Running Real Simple Analysis\n",
      "[ ][CORE][30/06/20-18:36:29][INFO] Running Statistical Analysis\n",
      "[ ][CORE][30/06/20-18:36:37][INFO] Building Pvalues result\n",
      "[ ][CORE][30/06/20-18:36:37][INFO] Building Simple results\n",
      "[ ][CORE][30/06/20-18:36:37][INFO] [Cluster Statistical Analysis Complex] Threshold:0.1 Iterations:10 Debug-seed:-1 Threads:8 Precision:3\n",
      "[ ][CORE][30/06/20-18:36:37][INFO] Running Complex Prefilters\n",
      "[ ][CORE][30/06/20-18:37:28][INFO] Running Real Complex Analysis\n",
      "[ ][CORE][30/06/20-18:37:29][INFO] Running Statistical Analysis\n",
      "[ ][CORE][30/06/20-18:37:34][INFO] Building Pvalues result\n",
      "[ ][CORE][30/06/20-18:37:34][INFO] Building Complex results\n"
     ]
    }
   ],
   "source": [
    "#!mkdir cellphonedb\n",
    "!cellphonedb method statistical_analysis meta.txt counts.txt --output-path=cellphonedb --iterations=10 --threads=8 --pvalue=0.001"
   ]
  },
  {
   "cell_type": "code",
   "execution_count": 21,
   "metadata": {},
   "outputs": [],
   "source": [
    "!cellphonedb plot dot_plot --means-path=cellphonedb/means.txt --pvalues-path=cellphonedb/pvalues.txt"
   ]
  },
  {
   "cell_type": "code",
   "execution_count": 19,
   "metadata": {},
   "outputs": [],
   "source": [
    "!cellphonedb plot heatmap_plot meta.txt --pvalues-path cellphonedb/pvalues.txt --pvalue 0.001"
   ]
  },
  {
   "cell_type": "code",
   "execution_count": null,
   "metadata": {},
   "outputs": [],
   "source": []
  }
 ],
 "metadata": {
  "kernelspec": {
   "display_name": "Python 3",
   "language": "python",
   "name": "python3"
  },
  "language_info": {
   "codemirror_mode": {
    "name": "ipython",
    "version": 3
   },
   "file_extension": ".py",
   "mimetype": "text/x-python",
   "name": "python",
   "nbconvert_exporter": "python",
   "pygments_lexer": "ipython3",
   "version": "3.7.7"
  }
 },
 "nbformat": 4,
 "nbformat_minor": 2
}
